{
 "cells": [
  {
   "cell_type": "code",
   "execution_count": 153,
   "metadata": {
    "collapsed": false
   },
   "outputs": [],
   "source": [
    "import matplotlib.pyplot as plt\n",
    "import numpy as np\n",
    "import os\n",
    "import sys\n",
    "import tarfile\n",
    "import requests, zipfile, StringIO\n",
    "from six.moves.urllib.request import urlretrieve\n",
    "from six.moves import cPickle as pickle\n",
    "import gzip, binascii\n",
    "\n",
    "import pandas as pd\n",
    "from sklearn.cluster import KMeans\n",
    "from sklearn import metrics\n",
    "import re\n",
    "from sklearn.preprocessing import Imputer\n",
    "from numpy import random\n",
    "from pandas import DataFrame, Series\n",
    "from IPython.display import display\n",
    "\n",
    "from __future__ import absolute_import\n",
    "from __future__ import division\n",
    "from __future__ import print_function\n",
    "\n",
    "from six.moves import xrange  # pylint: disable=redefined-builtin\n",
    "\n",
    "# Config the matlotlib backend as plotting inline in IPython\n",
    "%matplotlib inline"
   ]
  },
  {
   "cell_type": "code",
   "execution_count": 3,
   "metadata": {
    "collapsed": false
   },
   "outputs": [
    {
     "name": "stdout",
     "output_type": "stream",
     "text": [
      "5680320\n",
      "Found and verified breastcancerproteomes.zip\n",
      "data_zipfilename:  breastcancerproteomes.zip\n"
     ]
    }
   ],
   "source": [
    "url = 'https://www.kaggle.com/piotrgrabo/breastcancerproteomes/downloads/'\n",
    "last_percent_reported = None\n",
    "\n",
    "def download_progress_hook(count, blockSize, totalSize):\n",
    "  \"\"\"A hook to report the progress of a download. This is mostly intended for users with\n",
    "  slow internet connections. Reports every 1% change in download progress.\n",
    "  \"\"\"\n",
    "  global last_percent_reported\n",
    "  percent = int(count * blockSize * 100 / totalSize)\n",
    "\n",
    "  if last_percent_reported != percent:\n",
    "    if percent % 5 == 0:\n",
    "      sys.stdout.write(\"%s%%\" % percent)\n",
    "      sys.stdout.flush()\n",
    "    else:\n",
    "      sys.stdout.write(\".\")\n",
    "      sys.stdout.flush()\n",
    "      \n",
    "    last_percent_reported = percent\n",
    "        \n",
    "def maybe_download(filename, expected_bytes, force=False):\n",
    "  \"\"\"Download a file if not present, and make sure it's the right size.\"\"\"\n",
    "  if force or not os.path.exists(filename):\n",
    "    print('Attempting to download:', filename) \n",
    "    filename, _ = urlretrieve(url + filename, filename, reporthook=download_progress_hook)\n",
    "    print('\\nDownload Complete!')\n",
    "  statinfo = os.stat(filename)\n",
    "  print (statinfo.st_size)\n",
    "  if statinfo.st_size == expected_bytes:\n",
    "    print('Found and verified', filename)\n",
    "  else:\n",
    "    raise Exception(\n",
    "      'Failed to verify ' + filename + '. Can you get to it with a browser?')\n",
    "  return filename\n",
    "\n",
    "data_zipfilename = maybe_download('breastcancerproteomes.zip', 5680320)\n",
    "print ('data_zipfilename: ', data_zipfilename)\n",
    "#clinical_data_BC_filename = maybe_download('clinical_data_breast_cancer.csv', 18637)\n",
    "#PAM50_proteins_filename = maybe_download('PAM50_proteins.csv', 6674)\n"
   ]
  },
  {
   "cell_type": "code",
   "execution_count": 4,
   "metadata": {
    "collapsed": false
   },
   "outputs": [
    {
     "name": "stdout",
     "output_type": "stream",
     "text": [
      "breastcancerproteomes\n",
      "breastcancerproteomes\n",
      "Extracting data for breastcancerproteomes. This may take a while. Please wait.\n",
      "['77_cancer_proteomes_CPTAC_itraq.csv', 'PAM50_proteins.csv', 'clinical_data_breast_cancer.csv']\n",
      "77_cancer_proteomes_CPTAC_itraq.csv :\n",
      "PAM50_proteins.csv :\n",
      "clinical_data_breast_cancer.csv :\n"
     ]
    }
   ],
   "source": [
    "def maybe_extract(filename, force=False):\n",
    "  #print (os.path.abspath(filename))\n",
    "  print (os.path.splitext(filename)[0])\n",
    "  root = os.path.splitext(filename)[0]  # remove .zip\n",
    "  print (root)\n",
    "  if os.path.isdir(root) and not force:\n",
    "    # You may override by setting force=True.\n",
    "    print('%s already present - Skipping extraction of %s.' % (root, filename))\n",
    "  else:\n",
    "    print('Extracting data for %s. This may take a while. Please wait.' % root)\n",
    "    zf = zipfile.ZipFile(filename, 'r')\n",
    "    zipfile_namelist = zf.namelist()\n",
    "    print (zipfile_namelist)\n",
    "    \n",
    "    for filename in zipfile_namelist:\n",
    "        try:\n",
    "            data = zf.read(filename)\n",
    "        except KeyError:\n",
    "            print ('ERROR: Did not find %s in zip file' % filename)\n",
    "        else:\n",
    "            print (filename, ':')\n",
    "            #print (repr(data))\n",
    "\n",
    "  return zipfile_namelist\n",
    "  \n",
    "data_files= maybe_extract(data_zipfilename)\n"
   ]
  },
  {
   "cell_type": "code",
   "execution_count": 35,
   "metadata": {
    "collapsed": false
   },
   "outputs": [
    {
     "name": "stdout",
     "output_type": "stream",
     "text": [
      "77_cancer_proteomes_CPTAC_itraq.csv\n",
      "PAM50_proteins.csv\n",
      "clinical_data_breast_cancer.csv\n"
     ]
    }
   ],
   "source": [
    "#z = os.path.basename(filename)\n",
    "#print (z)\n",
    "\n",
    "dataset_path = data_files[0]\n",
    "print (dataset_path)\n",
    "pam50_proteins = data_files[1]\n",
    "print (pam50_proteins)\n",
    "clinical_info = data_files[2]\n",
    "print (clinical_info)\n"
   ]
  },
  {
   "cell_type": "code",
   "execution_count": 191,
   "metadata": {
    "collapsed": false
   },
   "outputs": [
    {
     "name": "stdout",
     "output_type": "stream",
     "text": [
      "Breast Cancer Patients dataset has 12553 samples with 84 features each.\n",
      "Pam50 dataset has 100 samples with 4 features each.\n",
      "Clinical dataset has 105 samples with 30 features each.\n",
      "30\n"
     ]
    }
   ],
   "source": [
    "try:\n",
    "    data = pd.read_csv(os.path.abspath(dataset_path))\n",
    "    data.drop(['gene_symbol','gene_name'], axis = 1, inplace = True)\n",
    "    print (\"Breast Cancer Patients dataset has {} samples with {} features each.\".format(*data.shape))\n",
    "    \n",
    "    pam50 = pd.read_csv(os.path.abspath(pam50_proteins))\n",
    "    print (\"Pam50 dataset has {} samples with {} features each.\".format(*pam50.shape))\n",
    "    \n",
    "    clinical = pd.read_csv(os.path.abspath(clinical_info))\n",
    "    print (\"Clinical dataset has {} samples with {} features each.\".format(*clinical.shape))\n",
    "except:\n",
    "    print (\"Dataset could not be loaded. Is the dataset missing?\")\n",
    "\n",
    "clinical_columns = list(clinical.columns)\n",
    "print (len(clinical.columns))\n",
    "#print (clinical[clinical.columns[0]].tolist())\n",
    "# clinical index are converted to first column data! I had to do that to be able to have same\n",
    "# results with original .py file \n",
    "clinical.index = clinical[clinical.columns[0]].tolist()\n",
    "#print (clinical[clinical.columns[:]].head())\n",
    "#print (clinical.loc[['TCGA-E2-A15A', 'TCGA-A2-A0T2'],:])"
   ]
  },
  {
   "cell_type": "code",
   "execution_count": 192,
   "metadata": {
    "collapsed": false
   },
   "outputs": [
    {
     "name": "stdout",
     "output_type": "stream",
     "text": [
      "Transpose dataset has 84 samples with 12553 features each.\n",
      "Clinical dataset has 77 samples with 30 features each.\n",
      "Merged dataset has 80 samples with 12583 features each.\n",
      "processed_numerical dataset has 80 samples with 12546 features each.\n",
      "processed_numerical_p50 dataset has 80 samples with 43 features each.\n"
     ]
    }
   ],
   "source": [
    "#print ('before data.columns: ', list(data.columns))\n",
    "## Change the protein data sample names to a format matching the clinical data set\n",
    "data.rename(columns=lambda x: \"TCGA-%s\" % (re.split('[_|-|.]',x)[0]) if bool(re.search(\"TCGA\",x)) is True else x,inplace=True)\n",
    "#print ('after data.columns: ', list(data.columns))\n",
    "\n",
    "data_transpose = data.transpose()\n",
    "print (\"Transpose dataset has {} samples with {} features each.\".format(*data_transpose.shape))\n",
    "#print (data_transpose.columns)\n",
    "# data_transpose columns are converted to first raw data! I had to do that to be able to have same\n",
    "# results with original .py file \n",
    "c_list = []\n",
    "for i in data_transpose.loc['RefSeq_accession_number']:\n",
    "    c_list.append(i)\n",
    "#print (c_list)\n",
    "\n",
    "data_transpose.columns = c_list\n",
    "#print (data_transpose.head())\n",
    "## Drop clinical entries for samples not in our protein data set\n",
    "\n",
    "#print ('d_t_index: ', data_transpose.index)\n",
    "#for x in clinical[clinical.columns[0]].tolist():\n",
    "#    if x in data_transpose.index.tolist():\n",
    "#        print ('x: ', x)\n",
    "    \n",
    "clinical = clinical.loc[[x for x in clinical.index.tolist() if x in data_transpose.index],:]\n",
    "print (\"Clinical dataset has {} samples with {} features each.\".format(*clinical.shape))\n",
    "\n",
    "## Add clinical meta data to our protein data set, note: all numerical features for analysis start with NP_ or XP_\n",
    "merged = data_transpose.merge(clinical,left_index=True,right_index=True)\n",
    "print (\"Merged dataset has {} samples with {} features each.\".format(*merged.shape))\n",
    "\n",
    "## Change name to make it look nicer in the code!\n",
    "processed = merged\n",
    "\n",
    "import re\n",
    "## Numerical data for the algorithm, NP_xx/XP_xx are protein identifiers from RefSeq database\n",
    "    \n",
    "processed_numerical = processed.loc[:,[x for x in processed.columns if bool(re.search(\"NP_|XP_\",x)) == True]]\n",
    "print (\"processed_numerical dataset has {} samples with {} features each.\".format(*processed_numerical.shape))\n",
    " \n",
    "## Select only the PAM50 proteins - known panel of genes used for breast cancer subtype prediction\n",
    "processed_numerical_p50 = processed_numerical.ix[:,processed_numerical.columns.isin(pam50['RefSeqProteinID'])]\n",
    "print (\"processed_numerical_p50 dataset has {} samples with {} features each.\".format(*processed_numerical_p50.shape))\n",
    " "
   ]
  },
  {
   "cell_type": "code",
   "execution_count": null,
   "metadata": {
    "collapsed": true
   },
   "outputs": [],
   "source": []
  }
 ],
 "metadata": {
  "kernelspec": {
   "display_name": "Python 2",
   "language": "python",
   "name": "python2"
  },
  "language_info": {
   "codemirror_mode": {
    "name": "ipython",
    "version": 2
   },
   "file_extension": ".py",
   "mimetype": "text/x-python",
   "name": "python",
   "nbconvert_exporter": "python",
   "pygments_lexer": "ipython2",
   "version": "2.7.11"
  }
 },
 "nbformat": 4,
 "nbformat_minor": 0
}
