{
 "cells": [
  {
   "cell_type": "code",
   "execution_count": 21,
   "metadata": {
    "collapsed": false
   },
   "outputs": [],
   "source": [
    "import matplotlib.pyplot as plt\n",
    "import numpy as np\n",
    "import os\n",
    "import sys\n",
    "import tarfile\n",
    "import requests, zipfile, StringIO\n",
    "from six.moves.urllib.request import urlretrieve\n",
    "from six.moves import cPickle as pickle\n",
    "import gzip, binascii\n",
    "\n",
    "import pandas as pd\n",
    "from sklearn.cluster import KMeans\n",
    "from sklearn import metrics\n",
    "import re\n",
    "from sklearn.preprocessing import Imputer\n",
    "from numpy import random\n",
    "\n",
    "from __future__ import absolute_import\n",
    "from __future__ import division\n",
    "from __future__ import print_function\n",
    "\n",
    "from six.moves import xrange  # pylint: disable=redefined-builtin\n",
    "\n",
    "# Config the matlotlib backend as plotting inline in IPython\n",
    "%matplotlib inline"
   ]
  },
  {
   "cell_type": "code",
   "execution_count": 22,
   "metadata": {
    "collapsed": false
   },
   "outputs": [
    {
     "name": "stdout",
     "output_type": "stream",
     "text": [
      "5680320\n",
      "Found and verified breastcancerproteomes.zip\n",
      "data_zipfilename:  breastcancerproteomes.zip\n"
     ]
    }
   ],
   "source": [
    "url = 'https://www.kaggle.com/piotrgrabo/breastcancerproteomes/downloads/'\n",
    "last_percent_reported = None\n",
    "\n",
    "def download_progress_hook(count, blockSize, totalSize):\n",
    "  \"\"\"A hook to report the progress of a download. This is mostly intended for users with\n",
    "  slow internet connections. Reports every 1% change in download progress.\n",
    "  \"\"\"\n",
    "  global last_percent_reported\n",
    "  percent = int(count * blockSize * 100 / totalSize)\n",
    "\n",
    "  if last_percent_reported != percent:\n",
    "    if percent % 5 == 0:\n",
    "      sys.stdout.write(\"%s%%\" % percent)\n",
    "      sys.stdout.flush()\n",
    "    else:\n",
    "      sys.stdout.write(\".\")\n",
    "      sys.stdout.flush()\n",
    "      \n",
    "    last_percent_reported = percent\n",
    "        \n",
    "def maybe_download(filename, expected_bytes, force=False):\n",
    "  \"\"\"Download a file if not present, and make sure it's the right size.\"\"\"\n",
    "  if force or not os.path.exists(filename):\n",
    "    print('Attempting to download:', filename) \n",
    "    filename, _ = urlretrieve(url + filename, filename, reporthook=download_progress_hook)\n",
    "    print('\\nDownload Complete!')\n",
    "  statinfo = os.stat(filename)\n",
    "  print (statinfo.st_size)\n",
    "  if statinfo.st_size == expected_bytes:\n",
    "    print('Found and verified', filename)\n",
    "  else:\n",
    "    raise Exception(\n",
    "      'Failed to verify ' + filename + '. Can you get to it with a browser?')\n",
    "  return filename\n",
    "\n",
    "data_zipfilename = maybe_download('breastcancerproteomes.zip', 5680320)\n",
    "print ('data_zipfilename: ', data_zipfilename)\n",
    "#clinical_data_BC_filename = maybe_download('clinical_data_breast_cancer.csv', 18637)\n",
    "#PAM50_proteins_filename = maybe_download('PAM50_proteins.csv', 6674)\n"
   ]
  },
  {
   "cell_type": "code",
   "execution_count": 23,
   "metadata": {
    "collapsed": false
   },
   "outputs": [
    {
     "name": "stdout",
     "output_type": "stream",
     "text": [
      "breastcancerproteomes\n",
      "breastcancerproteomes\n",
      "Extracting data for breastcancerproteomes. This may take a while. Please wait.\n",
      "['77_cancer_proteomes_CPTAC_itraq.csv', 'PAM50_proteins.csv', 'clinical_data_breast_cancer.csv']\n",
      "77_cancer_proteomes_CPTAC_itraq.csv :\n",
      "PAM50_proteins.csv :\n",
      "clinical_data_breast_cancer.csv :\n"
     ]
    }
   ],
   "source": [
    "def maybe_extract(filename, force=False):\n",
    "  #print (os.path.abspath(filename))\n",
    "  print (os.path.splitext(filename)[0])\n",
    "  root = os.path.splitext(filename)[0]  # remove .zip\n",
    "  print (root)\n",
    "  if os.path.isdir(root) and not force:\n",
    "    # You may override by setting force=True.\n",
    "    print('%s already present - Skipping extraction of %s.' % (root, filename))\n",
    "  else:\n",
    "    print('Extracting data for %s. This may take a while. Please wait.' % root)\n",
    "    zf = zipfile.ZipFile(filename, 'r')\n",
    "    zipfile_namelist = zf.namelist()\n",
    "    print (zipfile_namelist)\n",
    "    \n",
    "    for filename in zipfile_namelist:\n",
    "        try:\n",
    "            data = zf.read(filename)\n",
    "        except KeyError:\n",
    "            print ('ERROR: Did not find %s in zip file' % filename)\n",
    "        else:\n",
    "            print (filename, ':')\n",
    "            #print (repr(data))\n",
    "\n",
    "  return zipfile_namelist\n",
    "  \n",
    "data_files= maybe_extract(data_zipfilename)\n"
   ]
  },
  {
   "cell_type": "code",
   "execution_count": 24,
   "metadata": {
    "collapsed": false
   },
   "outputs": [
    {
     "name": "stdout",
     "output_type": "stream",
     "text": [
      "77_cancer_proteomes_CPTAC_itraq.csv\n",
      "PAM50_proteins.csv\n",
      "clinical_data_breast_cancer.csv\n"
     ]
    }
   ],
   "source": [
    "#z = os.path.basename(filename)\n",
    "#print (z)\n",
    "\n",
    "dataset_path = data_files[0]\n",
    "print (data_path)\n",
    "pam50_proteins = data_files[1]\n",
    "print (pam50_proteins)\n",
    "clinical_info = data_files[2]\n",
    "print (clinical_info)\n"
   ]
  },
  {
   "cell_type": "code",
   "execution_count": 25,
   "metadata": {
    "collapsed": false
   },
   "outputs": [
    {
     "name": "stdout",
     "output_type": "stream",
     "text": [
      "Breast Cancer Patients dataset has 12553 samples with 84 features each.\n",
      "Pam50 dataset has 12553 samples with 84 features each.\n",
      "Clinical dataset has 12553 samples with 84 features each.\n"
     ]
    }
   ],
   "source": [
    "try:\n",
    "    data = pd.read_csv(os.path.abspath(dataset_path))\n",
    "    data.drop(['gene_symbol','gene_name'], axis = 1, inplace = True)\n",
    "    print (\"Breast Cancer Patients dataset has {} samples with {} features each.\".format(*data.shape))\n",
    "    \n",
    "    pam50 = pd.read_csv(os.path.abspath(pam50_proteins))\n",
    "    print (\"Pam50 dataset has {} samples with {} features each.\".format(*data.shape))\n",
    "    \n",
    "    clinical = pd.read_csv(os.path.abspath(clinical_info))\n",
    "    print (\"Clinical dataset has {} samples with {} features each.\".format(*data.shape))\n",
    "except:\n",
    "    print (\"Dataset could not be loaded. Is the dataset missing?\")"
   ]
  },
  {
   "cell_type": "code",
   "execution_count": null,
   "metadata": {
    "collapsed": true
   },
   "outputs": [],
   "source": []
  }
 ],
 "metadata": {
  "kernelspec": {
   "display_name": "Python 2",
   "language": "python",
   "name": "python2"
  },
  "language_info": {
   "codemirror_mode": {
    "name": "ipython",
    "version": 2
   },
   "file_extension": ".py",
   "mimetype": "text/x-python",
   "name": "python",
   "nbconvert_exporter": "python",
   "pygments_lexer": "ipython2",
   "version": "2.7.11"
  }
 },
 "nbformat": 4,
 "nbformat_minor": 0
}
